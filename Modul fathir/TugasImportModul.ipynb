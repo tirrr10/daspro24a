{
 "cells": [
  {
   "cell_type": "code",
   "execution_count": 29,
   "id": "df341e5b-a3e3-4d11-acf8-4a796b9a0c5b",
   "metadata": {},
   "outputs": [
    {
     "name": "stdout",
     "output_type": "stream",
     "text": [
      "\n",
      "    1. Aritmatika\n",
      "    2. Konversi\n",
      "    3. Ubah Bilangan\n",
      "    4. Keluar\n",
      "    \n"
     ]
    },
    {
     "name": "stdin",
     "output_type": "stream",
     "text": [
      "PILIH MENU: (1-4):  1\n"
     ]
    },
    {
     "name": "stdout",
     "output_type": "stream",
     "text": [
      "\n",
      "    1. Penjumlahan\n",
      "    2. Perpangkatan\n",
      "    3. Perkalian\n",
      "    \n"
     ]
    },
    {
     "name": "stdin",
     "output_type": "stream",
     "text": [
      "Pilih Fitur (1-3):  1\n",
      "Isikan angka 1:  2\n",
      "Isikan angka 2:  3\n"
     ]
    },
    {
     "name": "stdout",
     "output_type": "stream",
     "text": [
      "Hasil Penjumlahan 2 ditambah 3 : 5\n",
      "\n",
      "    1. Aritmatika\n",
      "    2. Konversi\n",
      "    3. Ubah Bilangan\n",
      "    4. Keluar\n",
      "    \n"
     ]
    },
    {
     "name": "stdin",
     "output_type": "stream",
     "text": [
      "PILIH MENU: (1-4):  2\n"
     ]
    },
    {
     "name": "stdout",
     "output_type": "stream",
     "text": [
      "\n",
      "    1. CM TO M\n",
      "    2. M TO CM\n",
      "    \n"
     ]
    },
    {
     "name": "stdin",
     "output_type": "stream",
     "text": [
      "Pilih Fitur (1-2):  1\n",
      "Isikan panjang (CM):  32\n"
     ]
    },
    {
     "name": "stdout",
     "output_type": "stream",
     "text": [
      "Panjang dalam meter: 0.32\n",
      "\n",
      "    1. Aritmatika\n",
      "    2. Konversi\n",
      "    3. Ubah Bilangan\n",
      "    4. Keluar\n",
      "    \n"
     ]
    },
    {
     "name": "stdin",
     "output_type": "stream",
     "text": [
      "PILIH MENU: (1-4):  3\n"
     ]
    },
    {
     "name": "stdout",
     "output_type": "stream",
     "text": [
      "\n",
      "    1. Desimal To Biner\n",
      "    2. Desimal To Octal\n",
      "    3. Desimal To Hexadesimal\n",
      "    \n"
     ]
    },
    {
     "name": "stdin",
     "output_type": "stream",
     "text": [
      "Pilih Fitur (1-3):  2\n",
      "Isikan bilangan desimal:  32\n"
     ]
    },
    {
     "name": "stdout",
     "output_type": "stream",
     "text": [
      "Bilangan Octal: 0o40\n",
      "\n",
      "    1. Aritmatika\n",
      "    2. Konversi\n",
      "    3. Ubah Bilangan\n",
      "    4. Keluar\n",
      "    \n"
     ]
    },
    {
     "name": "stdin",
     "output_type": "stream",
     "text": [
      "PILIH MENU: (1-4):  4\n"
     ]
    },
    {
     "name": "stdout",
     "output_type": "stream",
     "text": [
      "Terima Kasih telah menggunakan Program ini. Thank u, Have a nice day:)\n"
     ]
    }
   ],
   "source": [
    "import aritmatika\n",
    "import konversi\n",
    "import ubahBilangan\n",
    "\n",
    "def menuUtama():\n",
    "    print(\"\"\"\n",
    "    1. Aritmatika\n",
    "    2. Konversi\n",
    "    3. Ubah Bilangan\n",
    "    4. Keluar\n",
    "    \"\"\")\n",
    "\n",
    "def menuAritmatika():\n",
    "    print(\"\"\"\n",
    "    1. Penjumlahan\n",
    "    2. Perpangkatan\n",
    "    3. Perkalian\n",
    "    \"\"\")\n",
    "\n",
    "def menuKonversi():\n",
    "    print(\"\"\"\n",
    "    1. CM TO M\n",
    "    2. M TO CM\n",
    "    \"\"\")\n",
    "\n",
    "def menuUbahBilangan():\n",
    "    print(\"\"\"\n",
    "    1. Desimal To Biner\n",
    "    2. Desimal To Octal\n",
    "    3. Desimal To Hexadesimal\n",
    "    \"\"\")\n",
    "\n",
    "while True:\n",
    "    menuUtama()\n",
    "    pilihMenu = int(input(\"PILIH MENU: (1-4): \"))\n",
    "    if pilihMenu == 1:\n",
    "        menuAritmatika()\n",
    "        pilihFitur = int(input(\"Pilih Fitur (1-3): \"))\n",
    "        if pilihFitur == 1:\n",
    "            a = int(input(\"Isikan angka 1: \"))\n",
    "            b = int(input(\"Isikan angka 2: \"))\n",
    "            hasil = aritmatika.penjumlahan(a, b)\n",
    "            print(f\"Hasil Penjumlahan {a} ditambah {b} : {hasil}\")\n",
    "        elif pilihFitur == 2:\n",
    "            a = int(input(\"Isikan angka 1: \"))\n",
    "            b = int(input(\"Isikan angka 2: \"))\n",
    "            hasil = aritmatika.perpangkatan(a, b)\n",
    "            print(f\"Hasil Perpangkatan {a} pangkat {b} : {hasil}\")\n",
    "        elif pilihFitur == 3:\n",
    "            a = int(input(\"Isikan angka 1: \"))\n",
    "            b = int(input(\"Isikan angka 2: \"))\n",
    "            hasil = aritmatika.perkalian(a, b)\n",
    "            print(f\"Hasil Perkalian {a} kali {b} : {hasil}\")\n",
    "        else:\n",
    "            print(\"PILIH FITUR 1 SAMPAI 4 SAJA!!\")\n",
    "            break\n",
    "    elif pilihMenu == 2:\n",
    "        menuKonversi()\n",
    "        pilihFitur = int(input(\"Pilih Fitur (1-2): \"))\n",
    "        if pilihFitur == 1:\n",
    "            pjgCM = int(input(\"Isikan panjang (CM): \"))\n",
    "            pjgMt = konversi.cmToMeter(pjgCM)\n",
    "            print(f\"Panjang dalam meter: {pjgMt}\")\n",
    "        elif pilihFitur == 2:\n",
    "            pjgMt = int(input(\"Isikan panjang (Meter): \"))\n",
    "            pjgCM = konversi.meterToCm(pjgMt)\n",
    "            print(f\"Panjang dalam Centimeter : {pjgCM}\")\n",
    "        else:\n",
    "            print(\"PILIH FITUR 1 SAMPAI 2 SAJA!!\")\n",
    "            break\n",
    "    elif pilihMenu == 3:\n",
    "        menuUbahBilangan()\n",
    "        pilihFitur = int(input(\"Pilih Fitur (1-3): \"))\n",
    "        if pilihFitur == 1:\n",
    "            des = int(input(\"Isikan bilangan desimal: \"))\n",
    "            ner = ubahBilangan.desimalToBiner(des)\n",
    "            print(f\"Bilangan Biner: {ner}\")\n",
    "        elif pilihFitur == 2:\n",
    "            des = int(input(\"Isikan bilangan desimal: \"))\n",
    "            tal = ubahBilangan.desimalToOctal(des)\n",
    "            print(f\"Bilangan Octal: {tal}\")\n",
    "        elif pilihFitur == 3:\n",
    "            des = int(input(\"Isikan bilangan desimal: \"))\n",
    "            hexa = ubahBilangan.desimalToHexadesimal(des)\n",
    "            print(f\"Bilangan Hexadesimal: {hexa}\")\n",
    "        else:\n",
    "            print(\"PILIH FITUR 1 SAMPAI 3 SAJA!!\")\n",
    "            break\n",
    "    elif pilihMenu == 4:\n",
    "        print(\"Terima Kasih telah menggunakan Program ini. Thank u, Have a nice day:)\")\n",
    "        break\n",
    "    else:\n",
    "        print(\"PILIH MENU 1 SAMPAI 4 SAJA!!\")\n",
    "        break"
   ]
  },
  {
   "cell_type": "code",
   "execution_count": null,
   "id": "ff163bc2-88db-4e67-8607-f527bac59ec6",
   "metadata": {},
   "outputs": [],
   "source": []
  }
 ],
 "metadata": {
  "kernelspec": {
   "display_name": "Python [conda env:base] *",
   "language": "python",
   "name": "conda-base-py"
  },
  "language_info": {
   "codemirror_mode": {
    "name": "ipython",
    "version": 3
   },
   "file_extension": ".py",
   "mimetype": "text/x-python",
   "name": "python",
   "nbconvert_exporter": "python",
   "pygments_lexer": "ipython3",
   "version": "3.12.7"
  }
 },
 "nbformat": 4,
 "nbformat_minor": 5
}
