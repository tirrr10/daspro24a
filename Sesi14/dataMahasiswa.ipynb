{
 "cells": [
  {
   "cell_type": "code",
   "execution_count": 5,
   "id": "d1cc2d6a-8abf-4a1d-a87f-727822ba4607",
   "metadata": {},
   "outputs": [
    {
     "name": "stdout",
     "output_type": "stream",
     "text": [
      "===== OPSI =====\n",
      "1. Tambahkan Data\n",
      "2. Tampilkan Data\n",
      "3. Exit\n"
     ]
    },
    {
     "name": "stdin",
     "output_type": "stream",
     "text": [
      "Pilih menu (1-3):  1\n",
      "Masukkan NIM:  20240040008\n",
      "Masukkan Nama:  fathir\n",
      "Masukkan Alamat:  hahahahahaa\n",
      "Masukkan Kelas:  TI24\n"
     ]
    },
    {
     "name": "stdout",
     "output_type": "stream",
     "text": [
      "Panjang Nama minimal 6 huruf\n",
      "===== OPSI =====\n",
      "1. Tambahkan Data\n",
      "2. Tampilkan Data\n",
      "3. Exit\n"
     ]
    },
    {
     "name": "stdin",
     "output_type": "stream",
     "text": [
      "Pilih menu (1-3):  1\n",
      "Masukkan NIM:  20240040008\n",
      "Masukkan Nama:  fathir a\n",
      "Masukkan Alamat:  hahahahahahahaa\n",
      "Masukkan Kelas:  TI24A\n"
     ]
    },
    {
     "name": "stdout",
     "output_type": "stream",
     "text": [
      "Kelas harus TI23 atau TI24\n",
      "===== OPSI =====\n",
      "1. Tambahkan Data\n",
      "2. Tampilkan Data\n",
      "3. Exit\n"
     ]
    },
    {
     "name": "stdin",
     "output_type": "stream",
     "text": [
      "Pilih menu (1-3):  2\n"
     ]
    },
    {
     "name": "stdout",
     "output_type": "stream",
     "text": [
      "\n",
      "===== OPSI =====\n",
      "1. Tambahkan Data\n",
      "2. Tampilkan Data\n",
      "3. Exit\n"
     ]
    },
    {
     "name": "stdin",
     "output_type": "stream",
     "text": [
      "Pilih menu (1-3):  1\n",
      "Masukkan NIM:  20240040008\n",
      "Masukkan Nama:  fathir a\n",
      "Masukkan Alamat:  hahahahahahaaa\n",
      "Masukkan Kelas:  TI24\n"
     ]
    },
    {
     "name": "stdout",
     "output_type": "stream",
     "text": [
      "===== OPSI =====\n",
      "1. Tambahkan Data\n",
      "2. Tampilkan Data\n",
      "3. Exit\n"
     ]
    },
    {
     "name": "stdin",
     "output_type": "stream",
     "text": [
      "Pilih menu (1-3):  2\n"
     ]
    },
    {
     "name": "stdout",
     "output_type": "stream",
     "text": [
      "\n",
      "NIM = 20240040008\n",
      "Nama = fathir a\n",
      "Alamat = hahahahahahaaa\n",
      "Kelas = TI24\n",
      "\n",
      "===== OPSI =====\n",
      "1. Tambahkan Data\n",
      "2. Tampilkan Data\n",
      "3. Exit\n"
     ]
    },
    {
     "name": "stdin",
     "output_type": "stream",
     "text": [
      "Pilih menu (1-3):  1\n",
      "Masukkan NIM:  20240040007\n",
      "Masukkan Nama:  galang h\n",
      "Masukkan Alamat:  jajajajajaa\n",
      "Masukkan Kelas:  TI23\n"
     ]
    },
    {
     "name": "stdout",
     "output_type": "stream",
     "text": [
      "===== OPSI =====\n",
      "1. Tambahkan Data\n",
      "2. Tampilkan Data\n",
      "3. Exit\n"
     ]
    },
    {
     "name": "stdin",
     "output_type": "stream",
     "text": [
      "Pilih menu (1-3):  2\n"
     ]
    },
    {
     "name": "stdout",
     "output_type": "stream",
     "text": [
      "\n",
      "NIM = 20240040008\n",
      "Nama = fathir a\n",
      "Alamat = hahahahahahaaa\n",
      "Kelas = TI24\n",
      "\n",
      "NIM = 20240040007\n",
      "Nama = galang h\n",
      "Alamat = jajajajajaa\n",
      "Kelas = TI23\n",
      "\n",
      "===== OPSI =====\n",
      "1. Tambahkan Data\n",
      "2. Tampilkan Data\n",
      "3. Exit\n"
     ]
    },
    {
     "name": "stdin",
     "output_type": "stream",
     "text": [
      "Pilih menu (1-3):  3\n"
     ]
    },
    {
     "name": "stdout",
     "output_type": "stream",
     "text": [
      "Terima kasih!\n"
     ]
    }
   ],
   "source": [
    "while True:\n",
    "    print(\"===== OPSI =====\")\n",
    "    print(\"1. Tambahkan Data\")\n",
    "    print(\"2. Tampilkan Data\")\n",
    "    print(\"3. Exit\")\n",
    "\n",
    "    pilihan = input(\"Pilih menu (1-3): \")\n",
    "    \n",
    "    if pilihan == \"1\":\n",
    "        nim = input(\"Masukkan NIM: \") #bila di setting integer di awal, akan error ketika input bukan int\n",
    "        nama = input(\"Masukkan Nama: \")\n",
    "        alamat = input(\"Masukkan Alamat: \")\n",
    "        kelas = input(\"Masukkan Kelas: \").upper()\n",
    "            \n",
    "        if nim.isdigit():\n",
    "            if len(nama) > 6:\n",
    "                if len(alamat) > 10:\n",
    "                    if kelas in [\"TI23\", \"TI24\"]:\n",
    "                        with open(\"dataMahasiswa.txt\", \"a\") as file:\n",
    "                            file.write(f\"\\nNIM = {nim}\\nNama = {nama}\\nAlamat = {alamat}\\nKelas = {kelas}\\n\")\n",
    "                    else :\n",
    "                        print(\"Kelas harus TI23 atau TI24\")\n",
    "                else : \n",
    "                    print(\"Alamat minimal 10 huruf\")\n",
    "            else :\n",
    "                print(\"Panjang Nama minimal 6 huruf\")\n",
    "        else :\n",
    "            print(\"NIM bukan Numerik\")\n",
    "    \n",
    "    elif pilihan == \"2\":\n",
    "        try:\n",
    "            f = open(\"dataMahasiswa.txt\", \"r\")\n",
    "            baris = f.read()\n",
    "\n",
    "        except FileNotFound:\n",
    "            print(\"File Tidak Ditemukan!\")\n",
    "\n",
    "        else :\n",
    "            print(baris)\n",
    "                \n",
    "    elif pilihan == \"3\":\n",
    "        print(\"Terima kasih!\")\n",
    "        break\n",
    "    else:\n",
    "        print(\"Pilihan tidak valid.\")"
   ]
  },
  {
   "cell_type": "code",
   "execution_count": null,
   "id": "a32646ac-560d-491e-a4bd-842b6744a87d",
   "metadata": {},
   "outputs": [],
   "source": []
  }
 ],
 "metadata": {
  "kernelspec": {
   "display_name": "Python 3 (ipykernel)",
   "language": "python",
   "name": "python3"
  },
  "language_info": {
   "codemirror_mode": {
    "name": "ipython",
    "version": 3
   },
   "file_extension": ".py",
   "mimetype": "text/x-python",
   "name": "python",
   "nbconvert_exporter": "python",
   "pygments_lexer": "ipython3",
   "version": "3.12.7"
  }
 },
 "nbformat": 4,
 "nbformat_minor": 5
}
