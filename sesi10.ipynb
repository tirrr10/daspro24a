{
 "cells": [
  {
   "cell_type": "code",
   "execution_count": 2,
   "id": "34ff3061-2125-42a9-8330-b301f9122b91",
   "metadata": {},
   "outputs": [],
   "source": [
    "import numpy as np\n",
    "import pandas as pd"
   ]
  },
  {
   "cell_type": "code",
   "execution_count": 105,
   "id": "49229ea7-651b-48a1-bfcb-73aaf0ff8274",
   "metadata": {},
   "outputs": [
    {
     "name": "stdout",
     "output_type": "stream",
     "text": [
      "Contoh Data\n",
      "   Umur    Gaji  Pengalaman Tingkat Pendidikan     Gender         Status  \\\n",
      "0    57  475351           3                SMP  Laki-laki  Belum Menikah   \n",
      "1    52  583418          13                SMA  Perempuan  Belum Menikah   \n",
      "2    57  233765          10                SMP  Perempuan  Belum Menikah   \n",
      "3    37  758741           6                SMA  Perempuan  Belum Menikah   \n",
      "4    36  403600           7                SMA  Perempuan        Menikah   \n",
      "\n",
      "   Jumlah Pembelian Kategori Produk  Kepuasan Pelanggan Wilayah  \n",
      "0               690      Elektronik                   3  Bekasi  \n",
      "1               757         Pakaian                   5  Bekasi  \n",
      "2               538         Pakaian                   4  Bekasi  \n",
      "3               447         Pakaian                   5  Bekasi  \n",
      "4               959       Furniture                   4  Bekasi  \n",
      "\n",
      "Deskriptif Statistik\n",
      "              Umur          Gaji   Pengalaman  Jumlah Pembelian  \\\n",
      "count  1000.000000    1000.00000  1000.000000       1000.000000   \n",
      "mean     38.653000  516675.81100     7.615000        509.329000   \n",
      "std      12.525393  269647.54419     4.099949        293.691276   \n",
      "min      18.000000   51404.00000     1.000000          1.000000   \n",
      "25%      28.000000  290094.50000     4.000000        256.000000   \n",
      "50%      38.000000  509271.50000     8.000000        521.000000   \n",
      "75%      50.000000  752730.50000    11.000000        761.000000   \n",
      "max      60.000000  996941.00000    14.000000        999.000000   \n",
      "\n",
      "       Kepuasan Pelanggan  \n",
      "count         1000.000000  \n",
      "mean             3.032000  \n",
      "std              1.443974  \n",
      "min              1.000000  \n",
      "25%              2.000000  \n",
      "50%              3.000000  \n",
      "75%              4.000000  \n",
      "max              5.000000  \n"
     ]
    }
   ],
   "source": [
    "kolom =['Umur','Gaji','Pengalaman','Tingkat Pendidikan','Gender','Status','Jumlah Pembelian','Kategori Produk','Kepuasan Pelanggan','Wilayah']\n",
    "\n",
    "data = {\n",
    "    'Umur' : np.random.randint(18, 61, size=1000),\n",
    "    'Gaji' : np.random.randint(50000, 1000000, size=1000),\n",
    "    'Pengalaman' : np.random.randint(1, 15, size=1000),\n",
    "    'Tingkat Pendidikan' : np.random.choice(['SD','SMP','SMA','Sarjana'], size=1000),\n",
    "    'Gender' : np.random.choice(['Laki-laki','Perempuan'], size=1000),\n",
    "    'Status' : np.random.choice(['Belum Menikah','Menikah'], size=1000),\n",
    "    'Jumlah Pembelian' : np.random.randint(1, 1000, size=1000),\n",
    "    'Kategori Produk' : np.random.choice(['Elektronik','Pakaian','Furniture'], size=1000),\n",
    "    'Kepuasan Pelanggan' : np.random.randint(1, 6, size=1000),\n",
    "    'Wilayah' : np.random.choice(['Jakarta','Bandung','Bogor','Sukabumi','Bekasi'])\n",
    "}\n",
    "\n",
    "df = pd.DataFrame(data, columns=kolom)\n",
    "\n",
    "print(\"Contoh Data\")\n",
    "print(df.head())\n",
    "\n",
    "print(\"\\nDeskriptif Statistik\")\n",
    "print(df.describe())"
   ]
  }
 ],
 "metadata": {
  "kernelspec": {
   "display_name": "Python 3 (ipykernel)",
   "language": "python",
   "name": "python3"
  },
  "language_info": {
   "codemirror_mode": {
    "name": "ipython",
    "version": 3
   },
   "file_extension": ".py",
   "mimetype": "text/x-python",
   "name": "python",
   "nbconvert_exporter": "python",
   "pygments_lexer": "ipython3",
   "version": "3.12.7"
  }
 },
 "nbformat": 4,
 "nbformat_minor": 5
}
