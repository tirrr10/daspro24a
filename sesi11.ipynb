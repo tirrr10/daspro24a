{
 "cells": [
  {
   "cell_type": "code",
   "execution_count": 9,
   "id": "42529ac7-238e-4c08-aa5a-e2d22ec168af",
   "metadata": {},
   "outputs": [
    {
     "name": "stdout",
     "output_type": "stream",
     "text": [
      "UKA ATNIC UMAK\n",
      "PYTHON HARI BELAJAR SEDANG INI\n",
      "Ak|_| C1nt4 K4m|_|\n",
      "4ku Cinta Kamu\n"
     ]
    }
   ],
   "source": [
    "# function untuk mengganti setiap kata kalimat\n",
    "def reverse_per_kata(kalimat):\n",
    "    kata_list = kalimat.split()  # kalimat dipisah menjadi list kata\n",
    "    hasil = []\n",
    "    for kata in kata_list:\n",
    "        hasil.append(kata[::-1])  # balik kata\n",
    "    return ' '.join(hasil)  # gabungkan list kata menjadi kalimat\n",
    "\n",
    "# function untuk mengurutkan kata dalam kalimat berdasarkan urutan indeks\n",
    "def urutan_kalimat(kalimat, urutan):\n",
    "    kata_list = kalimat.split()  # kalimat dipisah menjadi list kata\n",
    "    hasil = []\n",
    "    for i in urutan:\n",
    "        if i <= len(kata_list):  # mengecek agar indeks tidak keluar batas\n",
    "            hasil.append(kata_list[i - 1])  # ambil kata sesuai indeks\n",
    "    return ' '.join(hasil)  # gabungkan list kata menjadi kalimat\n",
    "\n",
    "# function untuk mengganti huruf vokal dengan simbol sesuai opsi\n",
    "def ganti_vokal(kalimat, opsi):\n",
    "    hasil = ''\n",
    "    for huruf in kalimat:\n",
    "        if opsi == 1:  # hanya huruf vokal kecil\n",
    "            if huruf == 'a':\n",
    "                hasil += '4'\n",
    "            elif huruf == 'i':\n",
    "                hasil += '1'\n",
    "            elif huruf == 'u':\n",
    "                hasil += '|_|'\n",
    "            elif huruf == 'e':\n",
    "                hasil += '3'\n",
    "            elif huruf == 'o':\n",
    "                hasil += '0'\n",
    "            else:\n",
    "                hasil += huruf\n",
    "        elif opsi == 2:  # hanya huruf vokal kapital\n",
    "            if huruf == 'A':\n",
    "                hasil += '4'\n",
    "            elif huruf == 'I':\n",
    "                hasil += '1'\n",
    "            elif huruf == 'U':\n",
    "                hasil += '|_|'\n",
    "            elif huruf == 'E':\n",
    "                hasil += '3'\n",
    "            elif huruf == 'O':\n",
    "                hasil += '0'\n",
    "            else:\n",
    "                hasil += huruf\n",
    "        else:\n",
    "            hasil += huruf  # jika opsi tidak valid, tetap huruf aslinya\n",
    "    return hasil\n",
    "\n",
    "# Output testing\n",
    "print(reverse_per_kata(\"AKU CINTA KAMU\"))  # Output: \"UKA ATNIC UMAK\"\n",
    "print(urutan_kalimat(\"HARI INI SEDANG BELAJAR PYTHON\", [5, 1, 4, 3, 2]))  # Output: \"PYTHON HARI BELAJAR SEDANG INI\"\n",
    "print(ganti_vokal(\"Aku Cinta Kamu\", 1))  # Output: \"Ak|_| C1nt4 K4m|_|\"\n",
    "print(ganti_vokal(\"Aku Cinta Kamu\", 2))  # Output: \"4ku Cinta Kamu\""
   ]
  },
  {
   "cell_type": "code",
   "execution_count": null,
   "id": "23f98547-df11-459d-af0b-b504c6505ee0",
   "metadata": {},
   "outputs": [],
   "source": []
  }
 ],
 "metadata": {
  "kernelspec": {
   "display_name": "Python 3 (ipykernel)",
   "language": "python",
   "name": "python3"
  },
  "language_info": {
   "codemirror_mode": {
    "name": "ipython",
    "version": 3
   },
   "file_extension": ".py",
   "mimetype": "text/x-python",
   "name": "python",
   "nbconvert_exporter": "python",
   "pygments_lexer": "ipython3",
   "version": "3.12.7"
  }
 },
 "nbformat": 4,
 "nbformat_minor": 5
}
