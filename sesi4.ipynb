{
 "cells": [
  {
   "cell_type": "markdown",
   "id": "d2eda8a9-7ae2-4551-96c8-2154095b00d0",
   "metadata": {},
   "source": [
    "<h1>Operator Aritmatika</h1>"
   ]
  },
  {
   "cell_type": "code",
   "execution_count": 2,
   "id": "8c95f6b5-aa14-4b91-be6c-036f29bfa44e",
   "metadata": {},
   "outputs": [
    {
     "name": "stdout",
     "output_type": "stream",
     "text": [
      "Setiap teman Budi mendapatkan 3 apel\n",
      "Total apel Budi sekarang adalah 20 apel\n"
     ]
    }
   ],
   "source": [
    "#apel budi\n",
    "budi = 12\n",
    "\n",
    "#apel yang ingin budi bagikan kepada temannya\n",
    "teman = 4\n",
    "\n",
    "#bagikan apel secara merata\n",
    "apel = budi // teman\n",
    "print(f\"Setiap teman Budi mendapatkan {apel} apel\")\n",
    "\n",
    "#tambahan apel buat Budi\n",
    "addApel = 8\n",
    "total = budi + addApel\n",
    "print(f\"Total apel Budi sekarang adalah {total} apel\")"
   ]
  },
  {
   "cell_type": "markdown",
   "id": "683ac615-974a-4a10-a5dc-f6550e674b02",
   "metadata": {},
   "source": [
    "<h1>Operator Perbandingan</h1>"
   ]
  },
  {
   "cell_type": "code",
   "execution_count": 3,
   "id": "2adf0f8e-2d65-460f-a46c-40803c2b22da",
   "metadata": {},
   "outputs": [
    {
     "name": "stdout",
     "output_type": "stream",
     "text": [
      "Andi lebih tinggi\n"
     ]
    }
   ],
   "source": [
    "siti = 160\n",
    "andi = 165\n",
    "\n",
    "#menentukan siapa yang tinggi\n",
    "if siti > andi:\n",
    "    print(\"Siti lebih Tinggi\")\n",
    "elif siti < andi:\n",
    "    print(\"Andi lebih tinggi\")\n",
    "else:\n",
    "    print(\"Keduanya sama tinggi\")"
   ]
  },
  {
   "cell_type": "markdown",
   "id": "d81b691c-75d8-4935-8100-24b4d2efcceb",
   "metadata": {},
   "source": [
    "<h1>Operator Logika</h1>"
   ]
  },
  {
   "cell_type": "code",
   "execution_count": 8,
   "id": "9e89e88f-d5bf-4c76-b6c7-7c58faf48f91",
   "metadata": {},
   "outputs": [
    {
     "name": "stdout",
     "output_type": "stream",
     "text": [
      "Budi bisa bermain\n"
     ]
    }
   ],
   "source": [
    "cuaca = True\n",
    "pr = False\n",
    "\n",
    "if cuaca or pr:\n",
    "    print(\"Budi bisa bermain\")\n",
    "else:\n",
    "    print(\"Budi tidak bisa bermain\")"
   ]
  },
  {
   "cell_type": "markdown",
   "id": "1c9348f1-6fe6-4b25-b730-58d9e228568e",
   "metadata": {},
   "source": [
    "<h1>Operator Bitwise</h1>"
   ]
  },
  {
   "cell_type": "code",
   "execution_count": 13,
   "id": "dc3bd938-9980-463f-beb3-5bde00f92692",
   "metadata": {},
   "outputs": [
    {
     "name": "stdin",
     "output_type": "stream",
     "text": [
      "Masukkan bilangan: 6\n",
      "Masukkan bilangan: 3\n"
     ]
    },
    {
     "name": "stdout",
     "output_type": "stream",
     "text": [
      "Biner dari bilangan 6: 0b110\n",
      "Biner dari bilangan 3: 0b11\n",
      "\n",
      "AND:\n",
      "0b110\n",
      "0b11\n",
      "0b10\n",
      "Hasilnya adalah 2\n",
      "\n",
      "OR:\n",
      "0b110\n",
      "0b11\n",
      "0b111\n",
      "Hasilnya adalah 7\n",
      "\n",
      "XOR:\n",
      "0b110\n",
      "0b11\n",
      "0b101\n",
      "Hasilnya adalah 5\n",
      "\n"
     ]
    }
   ],
   "source": [
    "bil1 = int(input('Masukkan bilangan:'))\n",
    "bil2= int(input('Masukkan bilangan:'))\n",
    "\n",
    "print(f\"Biner dari bilangan {bil1}: {bin(bil1)}\")\n",
    "print(f\"Biner dari bilangan {bil2}: {bin(bil2)}\\n\")\n",
    "\n",
    "print(\"AND:\")\n",
    "AND = bil1 & bil2\n",
    "print(bin(bil1))\n",
    "print(bin(bil2))\n",
    "print(bin(AND))\n",
    "print(f\"Hasilnya adalah {AND}\\n\")#hasil AND\n",
    "\n",
    "print(\"OR:\")\n",
    "OR = bil1 | bil2\n",
    "print(bin(bil1))\n",
    "print(bin(bil2))\n",
    "print(bin(OR))\n",
    "print(f\"Hasilnya adalah {OR}\\n\")#hasil OR\n",
    "\n",
    "print(\"XOR:\")\n",
    "XOR = bil1 ^ bil2\n",
    "print(bin(bil1))\n",
    "print(bin(bil2))\n",
    "print(bin(XOR))\n",
    "print(f\"Hasilnya adalah {XOR}\\n\")#hasil XOR"
   ]
  },
  {
   "cell_type": "markdown",
   "id": "1c66388c-2962-4422-89b8-ef4039df88e8",
   "metadata": {},
   "source": [
    "<h1>Operator Penugasan</h1>"
   ]
  },
  {
   "cell_type": "code",
   "execution_count": 21,
   "id": "a0f35964-4aa4-4a41-bd6f-c2ab309a6e4f",
   "metadata": {},
   "outputs": [
    {
     "name": "stdout",
     "output_type": "stream",
     "text": [
      "Sisa saldo pulsa sekarang 40000\n"
     ]
    }
   ],
   "source": [
    "pulsa = 50000 #saldo awal\n",
    "pulsa += 20000 #tambah saldo\n",
    "pulsa -= 30000 #berkurang saldo\n",
    "\n",
    "print(f\"Sisa saldo pulsa sekarang {pulsa}\")"
   ]
  },
  {
   "cell_type": "markdown",
   "id": "de77d5a2-4573-43d2-93db-366d2e5afd7d",
   "metadata": {},
   "source": [
    "<h1>Operator Keanggotaan</h1>"
   ]
  },
  {
   "cell_type": "code",
   "execution_count": 24,
   "id": "5d2a5f49-9501-4469-8137-5c5b3cd6218f",
   "metadata": {},
   "outputs": [
    {
     "name": "stdin",
     "output_type": "stream",
     "text": [
      "Masukkan nama: Eka\n"
     ]
    },
    {
     "name": "stdout",
     "output_type": "stream",
     "text": [
      "False\n",
      "False\n",
      "True\n",
      "True\n"
     ]
    }
   ],
   "source": [
    "name = input(\"Masukkan nama:\")\n",
    "listName = [\"Andi\", \"Budi\", \"Citra\", \"Dewi\"]\n",
    "print(name in listName)\n",
    "print(name in listName[0])\n",
    "print(name not in listName)\n",
    "print(name not in listName[0])"
   ]
  },
  {
   "cell_type": "code",
   "execution_count": 26,
   "id": "f053fe64-d8f4-46e1-9b41-1a9c6b782c57",
   "metadata": {},
   "outputs": [
    {
     "name": "stdin",
     "output_type": "stream",
     "text": [
      "Masukkan kata: Python\n"
     ]
    },
    {
     "name": "stdout",
     "output_type": "stream",
     "text": [
      "True\n",
      "False\n",
      "False\n",
      "True\n"
     ]
    }
   ],
   "source": [
    "kata = input(\"Masukkan kata:\")\n",
    "listKata = \"Saya suka belajar Python\"\n",
    "print(kata in listKata)\n",
    "print(kata in listKata[0])\n",
    "print(kata not in listKata)\n",
    "print(kata not in listKata[0])"
   ]
  },
  {
   "cell_type": "markdown",
   "id": "19c1dfca-b87f-4303-b056-94fa163b91af",
   "metadata": {},
   "source": [
    "<h1>Operator Identitas</h1>"
   ]
  },
  {
   "cell_type": "code",
   "execution_count": 29,
   "id": "07c39130-f69e-40c6-a33a-3fea2bd0825c",
   "metadata": {},
   "outputs": [
    {
     "name": "stdout",
     "output_type": "stream",
     "text": [
      "Memori dari x 140721339116088\n",
      "Memori dari y 140721339116088\n",
      "True\n",
      "False\n"
     ]
    }
   ],
   "source": [
    "x = 5\n",
    "y = 5\n",
    "\n",
    "print(\"Memori dari x\", id(x))\n",
    "print(\"Memori dari y\", id(y))\n",
    "print(x is y)\n",
    "print(x is not y) "
   ]
  },
  {
   "cell_type": "code",
   "execution_count": 31,
   "id": "66dc33f5-c67f-4b49-ab0a-ed7709eb5dea",
   "metadata": {},
   "outputs": [
    {
     "name": "stdout",
     "output_type": "stream",
     "text": [
      "True\n",
      "False\n"
     ]
    }
   ],
   "source": [
    "list1 = [3, 5, 7]\n",
    "list2 = [3, 5, 7]\n",
    "\n",
    "list1 = list2\n",
    "\n",
    "print(list1 is list2)\n",
    "print(list1 is not list2)"
   ]
  },
  {
   "cell_type": "markdown",
   "id": "e939a0e2-ddde-459f-a2f8-be1a4cfee05b",
   "metadata": {},
   "source": [
    "<h1>Operator Ternary</h1>"
   ]
  },
  {
   "cell_type": "code",
   "execution_count": 64,
   "id": "34549c43-6861-4bac-b681-ead6aedfc1e9",
   "metadata": {},
   "outputs": [
    {
     "name": "stdin",
     "output_type": "stream",
     "text": [
      "Masukkan angka: 111\n"
     ]
    },
    {
     "name": "stdout",
     "output_type": "stream",
     "text": [
      "Lebih besar dari 100\n"
     ]
    }
   ],
   "source": [
    "number = int(input(\"Masukkan angka:\"))\n",
    "hasil = \"Lebih besar dari 100\" if number >= 100 else \"Lebih kecil dari 100\"\n",
    "print(hasil)"
   ]
  },
  {
   "cell_type": "code",
   "execution_count": 68,
   "id": "fb7ddbef-ed2e-45b7-a27b-00385c1f25fe",
   "metadata": {},
   "outputs": [
    {
     "name": "stdin",
     "output_type": "stream",
     "text": [
      "Masukkan nilai: 90\n",
      "Masukkan nilai: 63\n"
     ]
    },
    {
     "name": "stdout",
     "output_type": "stream",
     "text": [
      "LULUS\n",
      "TIDAK LULUS\n"
     ]
    }
   ],
   "source": [
    "nilai = int(input(\"Masukkan nilai:\"))\n",
    "nilai2 = int(input(\"Masukkan nilai:\"))\n",
    "\n",
    "status = \"LULUS\" if nilai >= 70 else \"TIDAK LULUS\"\n",
    "status2 = \"LULUS\" if nilai2 >= 70 else \"TIDAK LULUS\"\n",
    "print(status)\n",
    "print(status2)"
   ]
  },
  {
   "cell_type": "code",
   "execution_count": null,
   "id": "842469e5-b66f-468b-814b-583d1d3b3363",
   "metadata": {},
   "outputs": [],
   "source": []
  }
 ],
 "metadata": {
  "kernelspec": {
   "display_name": "Python 3 (ipykernel)",
   "language": "python",
   "name": "python3"
  },
  "language_info": {
   "codemirror_mode": {
    "name": "ipython",
    "version": 3
   },
   "file_extension": ".py",
   "mimetype": "text/x-python",
   "name": "python",
   "nbconvert_exporter": "python",
   "pygments_lexer": "ipython3",
   "version": "3.12.7"
  }
 },
 "nbformat": 4,
 "nbformat_minor": 5
}
