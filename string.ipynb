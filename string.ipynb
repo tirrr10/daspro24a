{
 "cells": [
  {
   "cell_type": "markdown",
   "id": "49e25117-b966-40a9-beca-65a3e89c76a1",
   "metadata": {},
   "source": [
    "<h1>1</h1>"
   ]
  },
  {
   "cell_type": "code",
   "execution_count": 1,
   "id": "94dbddd7-f0b0-4b91-a408-e718bcc7a901",
   "metadata": {},
   "outputs": [
    {
     "name": "stdin",
     "output_type": "stream",
     "text": [
      "Masukkan nama anda: tir\n",
      "Masukkan umur anda: 19\n",
      "Masukkan alamat anda: bogor\n"
     ]
    },
    {
     "name": "stdout",
     "output_type": "stream",
     "text": [
      "Nama: tir\n",
      "Umur: 19\n",
      "Alamat: bogor\n"
     ]
    }
   ],
   "source": [
    "nama = input(\"Masukkan nama anda:\")\n",
    "umur = input(\"Masukkan umur anda:\")\n",
    "alamat = input(\"Masukkan alamat anda:\")\n",
    "\n",
    "hasil = \"Nama: {}\\nUmur: {}\\nAlamat: {}\".format(nama,umur,alamat)\n",
    "print(hasil)"
   ]
  },
  {
   "cell_type": "markdown",
   "id": "c7e96443-2afe-42be-ab2b-c08e61a28aaa",
   "metadata": {},
   "source": [
    "<h1>2</h1>"
   ]
  },
  {
   "cell_type": "code",
   "execution_count": 2,
   "id": "57cba454-5cca-4d68-94bf-54c6bdcfb525",
   "metadata": {},
   "outputs": [
    {
     "name": "stdout",
     "output_type": "stream",
     "text": [
      "putra nusa\n",
      "NIVERSITAS NSA PTRA SKABMI\n",
      "SUKABUMI PUTRA NUSA UNIVERSITAS\n",
      "UNPS\n",
      "SATISREVINU ASUN ARTUP IMUBAKUS\n"
     ]
    }
   ],
   "source": [
    "#output \"putra nusa\"\n",
    "a = \"UNIVERSITAS NUSA PUTRA SUKABUMI\"\n",
    "word = a.split()\n",
    "hasil = \"{} {}\".format(word[2].lower(), word[1].lower())\n",
    "print(hasil)\n",
    "\n",
    "#output \"niversitas nsa ptra skabmi\"\n",
    "b = \"UNIVERSITAS NUSA PUTRA SUKABUMI\"\n",
    "hasil = b[1:].replace(\"U\", \"\").replace(\"U\", \"\")\n",
    "print(hasil)\n",
    "\n",
    "#output \"sukabumi putra nusa universitas\"\n",
    "c = \"UNIVERSITAS NUSA PUTRA SUKABUMI\"\n",
    "word = a.split()\n",
    "hasil = \" \".join(word[::-1])\n",
    "print(hasil)\n",
    "\n",
    "#output \"unps\"\n",
    "d = \"UNIVERSITAS NUSA PUTRA SUKABUMI\"\n",
    "word = d.split()\n",
    "hasil = \"\".join([k[0] for k in word])\n",
    "print(hasil)\n",
    "\n",
    "#output \"tas sapu bumi\"\n",
    "e = \"UNIVERSITAS NUSA PUTRA SUKABUMI\"\n",
    "word = e.split()\n",
    "hasil = \" \".join([k[::-1] for k in word])\n",
    "print(hasil)"
   ]
  }
 ],
 "metadata": {
  "kernelspec": {
   "display_name": "Python 3 (ipykernel)",
   "language": "python",
   "name": "python3"
  },
  "language_info": {
   "codemirror_mode": {
    "name": "ipython",
    "version": 3
   },
   "file_extension": ".py",
   "mimetype": "text/x-python",
   "name": "python",
   "nbconvert_exporter": "python",
   "pygments_lexer": "ipython3",
   "version": "3.12.7"
  }
 },
 "nbformat": 4,
 "nbformat_minor": 5
}
